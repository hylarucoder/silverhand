{
 "cells": [
  {
   "cell_type": "code",
   "execution_count": 1,
   "metadata": {},
   "outputs": [],
   "source": [
    "import numpy as np\n",
    "import pandas as pd\n",
    "from pandas import DataFrame,Series\n",
    "import time\n",
    "pd.set_option('display.width', 1000)\n",
    "pd.set_option('display.max_columns', 100)\n",
    "pd.set_option('display.notebook_repr_html', True)\n",
    "from IPython.display import HTML\n",
    "import json\n",
    "from IPython.core.display import Javascript"
   ]
  },
  {
   "cell_type": "code",
   "execution_count": 2,
   "metadata": {},
   "outputs": [
    {
     "data": {
      "application/javascript": [
       "requirejs.config({\n",
       "    paths: { \n",
       "        echarts: '//cdnjs.cloudflare.com/ajax/libs/echarts/4.2.1/echarts', // strip .js ^, require adds it back\n",
       "    }\n",
       "});\n"
      ],
      "text/plain": [
       "<IPython.core.display.Javascript object>"
      ]
     },
     "metadata": {},
     "output_type": "display_data"
    }
   ],
   "source": [
    "%%javascript\n",
    "requirejs.config({\n",
    "    paths: { \n",
    "        echarts: '//cdnjs.cloudflare.com/ajax/libs/echarts/4.2.1/echarts', // strip .js ^, require adds it back\n",
    "    }\n",
    "});"
   ]
  },
  {
   "cell_type": "code",
   "execution_count": 25,
   "metadata": {},
   "outputs": [
    {
     "data": {
      "application/javascript": [
       "window.v2_option = JSON.parse('{\"title\": {\"text\": \"Python to JavaScript\"}, \"tooltip\": {}, \"legend\": {\"data\": [\"销量\"]}, \"xAxis\": {\"data\": [\"衬衫\", \"羊毛衫\", \"雪纺衫\", \"裤子\", \"高跟鞋\", \"袜子\"]}, \"yAxis\": {}, \"series\": [{\"name\": \"销量\", \"type\": \"bar\", \"data\": [5, 20, 36, 10, 10, 20]}]}')"
      ],
      "text/plain": [
       "<IPython.core.display.Javascript object>"
      ]
     },
     "execution_count": 25,
     "metadata": {},
     "output_type": "execute_result"
    }
   ],
   "source": [
    "url_dict = {\n",
    "    \"衬衫\": \"http://img.doutula.com/production/uploads/image/2019/04/08/20190408681858_DJmujK.jpg\",\n",
    "    \"羊毛衫\": \"https://ws3.sinaimg.cn/bmiddle/9150e4e5gy1g1uxcguv18j20tc0u4q4v.jpg\",\n",
    "    \"雪纺衫\": \"https://pic3.zhimg.com/v2-fbed43334ce48468426ede57937ad146_b.png\",\n",
    "    \"裤子\": \"https://pic3.zhimg.com/v2-fbed43334ce48468426ede57937ad146_b.png\",\n",
    "    \"高跟鞋\": \"https://pic3.zhimg.com/v2-fbed43334ce48468426ede57937ad146_b.png\",\n",
    "    \"袜子\": \"https://pic3.zhimg.com/v2-fbed43334ce48468426ede57937ad146_b.png\"\n",
    "}\n",
    "\n",
    "v2_option = {\n",
    "    \"title\": {\n",
    "        \"text\": 'Python to JavaScript'\n",
    "    },\n",
    "    \"tooltip\": {},\n",
    "    \"legend\": {\n",
    "        \"data\":['销量']\n",
    "    },\n",
    "    \"xAxis\": {\n",
    "        \"data\": [\"衬衫\",\"羊毛衫\",\"雪纺衫\",\"裤子\",\"高跟鞋\",\"袜子\"]\n",
    "    },\n",
    "    \"yAxis\": {},\n",
    "    \"series\": [{\n",
    "        \"name\": '销量',\n",
    "        \"type\": 'bar',\n",
    "        \"data\": [5, 20, 36, 10, 10, 20]\n",
    "    }]\n",
    "};\n",
    "Javascript(f\"window.v2_option = JSON.parse('{json.dumps(v2_option, ensure_ascii=False)}')\")\n"
   ]
  },
  {
   "cell_type": "code",
   "execution_count": 23,
   "metadata": {},
   "outputs": [
    {
     "data": {
      "application/javascript": [
       "window.url_dict = JSON.parse('{\"衬衫\": \"http://www.doutula.com/article/detail/8639010\", \"羊毛衫\": \"https://ws3.sinaimg.cn/bmiddle/9150e4e5gy1g1uxcguv18j20tc0u4q4v.jpg\", \"雪纺衫\": \"https://pic3.zhimg.com/v2-fbed43334ce48468426ede57937ad146_b.png\", \"裤子\": \"https://pic3.zhimg.com/v2-fbed43334ce48468426ede57937ad146_b.png\", \"高跟鞋\": \"https://pic3.zhimg.com/v2-fbed43334ce48468426ede57937ad146_b.png\", \"袜子\": \"https://pic3.zhimg.com/v2-fbed43334ce48468426ede57937ad146_b.png\"}')"
      ],
      "text/plain": [
       "<IPython.core.display.Javascript object>"
      ]
     },
     "execution_count": 23,
     "metadata": {},
     "output_type": "execute_result"
    }
   ],
   "source": [
    "Javascript(f\"window.url_dict = JSON.parse('{json.dumps(url_dict, ensure_ascii=False)}')\")"
   ]
  },
  {
   "cell_type": "code",
   "execution_count": 24,
   "metadata": {},
   "outputs": [
    {
     "data": {
      "application/javascript": [
       "element.append('<div id=\"v2_option_chart\" style=\"min-width: 310px; height: 400px; margin: 0 auto\"></div>');\n",
       "element.append('<img id=\"v2_img_chart\" style=\"min-width: 310px; height: 400px; margin: 0 auto\"></img>');\n",
       "(function(element) {\n",
       "    requirejs(['echarts'], function(echarts) {\n",
       "        var myChart = echarts.init(document.getElementById('v2_option_chart'));\n",
       "        myChart.setOption(window.v2_option);\n",
       "        myChart.on('click', function (params) {\n",
       "            let image_url = url_dict[params.name]\n",
       "            if (image_url){\n",
       "                document.getElementById(\"v2_img_chart\").src = image_url\n",
       "                \n",
       "            }\n",
       "            console.log(params.name);\n",
       "        });\n",
       "        return {};\n",
       "    });\n",
       "})(element);\n"
      ],
      "text/plain": [
       "<IPython.core.display.Javascript object>"
      ]
     },
     "metadata": {},
     "output_type": "display_data"
    }
   ],
   "source": [
    "%%javascript\n",
    "element.append('<div id=\"v2_option_chart\" style=\"min-width: 310px; height: 400px; margin: 0 auto\"></div>');\n",
    "element.append('<img id=\"v2_img_chart\" style=\"min-width: 310px; height: 400px; margin: 0 auto\"></img>');\n",
    "(function(element) {\n",
    "    requirejs(['echarts'], function(echarts) {\n",
    "        var myChart = echarts.init(document.getElementById('v2_option_chart'));\n",
    "        myChart.setOption(window.v2_option);\n",
    "        myChart.on('click', function (params) {\n",
    "            let image_url = url_dict[params.name]\n",
    "            if (image_url){\n",
    "                document.getElementById(\"v2_img_chart\").src = image_url\n",
    "                \n",
    "            }\n",
    "            console.log(params.name);\n",
    "        });\n",
    "        return {};\n",
    "    });\n",
    "})(element);\n"
   ]
  }
 ],
 "metadata": {
  "kernelspec": {
   "display_name": "Python 3",
   "language": "python",
   "name": "python3"
  },
  "language_info": {
   "codemirror_mode": {
    "name": "ipython",
    "version": 3
   },
   "file_extension": ".py",
   "mimetype": "text/x-python",
   "name": "python",
   "nbconvert_exporter": "python",
   "pygments_lexer": "ipython3",
   "version": "3.7.3"
  }
 },
 "nbformat": 4,
 "nbformat_minor": 1
}
