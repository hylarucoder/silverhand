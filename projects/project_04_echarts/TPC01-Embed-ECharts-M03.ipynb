{
 "cells": [
  {
   "cell_type": "code",
   "execution_count": 1,
   "metadata": {},
   "outputs": [],
   "source": [
    "import numpy as np\n",
    "import pandas as pd\n",
    "from pandas import DataFrame,Series\n",
    "import time\n",
    "pd.set_option('display.width', 1000)\n",
    "pd.set_option('display.max_columns', 100)\n",
    "pd.set_option('display.notebook_repr_html', True)\n",
    "from IPython.display import HTML\n",
    "import json\n",
    "from IPython.core.display import Javascript"
   ]
  },
  {
   "cell_type": "code",
   "execution_count": 2,
   "metadata": {},
   "outputs": [
    {
     "data": {
      "application/javascript": [
       "requirejs.config({\n",
       "    paths: { \n",
       "        echarts: '//cdnjs.cloudflare.com/ajax/libs/echarts/4.2.1/echarts', // strip .js ^, require adds it back\n",
       "    }\n",
       "});\n"
      ],
      "text/plain": [
       "<IPython.core.display.Javascript object>"
      ]
     },
     "metadata": {},
     "output_type": "display_data"
    }
   ],
   "source": [
    "%%javascript\n",
    "requirejs.config({\n",
    "    paths: { \n",
    "        echarts: '//cdnjs.cloudflare.com/ajax/libs/echarts/4.2.1/echarts', // strip .js ^, require adds it back\n",
    "    }\n",
    "});"
   ]
  },
  {
   "cell_type": "code",
   "execution_count": 3,
   "metadata": {},
   "outputs": [
    {
     "data": {
      "application/javascript": [
       "element.append('<div id=\"nest_chart\" style=\"min-width: 310px; height: 400px; margin: 0 auto\"></div>');\n",
       "(function(element) {\n",
       "    requirejs(['echarts'], function(echarts) {\n",
       "        var option = {\n",
       "            title: {\n",
       "                text: '直接编写JavaScript'\n",
       "            },\n",
       "            tooltip: {},\n",
       "            legend: {\n",
       "                data:['销量']\n",
       "            },\n",
       "            xAxis: {\n",
       "                data: [\"衬衫\",\"羊毛衫\",\"雪纺衫\",\"裤子\",\"高跟鞋\",\"袜子\"]\n",
       "            },\n",
       "            yAxis: {},\n",
       "            series: [{\n",
       "                name: '销量',\n",
       "                type: 'bar',\n",
       "                data: [5, 20, 36, 10, 10, 20]\n",
       "            }]\n",
       "        };\n",
       "\n",
       "        var myChart = echarts.init(document.getElementById('nest_chart'));\n",
       "        myChart.setOption(option);\n",
       "        return {};\n",
       "    });\n",
       "})(element);\n"
      ],
      "text/plain": [
       "<IPython.core.display.Javascript object>"
      ]
     },
     "metadata": {},
     "output_type": "display_data"
    }
   ],
   "source": [
    "%%javascript\n",
    "element.append('<div id=\"nest_chart\" style=\"min-width: 310px; height: 400px; margin: 0 auto\"></div>');\n",
    "(function(element) {\n",
    "    requirejs(['echarts'], function(echarts) {\n",
    "        var option = {\n",
    "            title: {\n",
    "                text: '直接编写JavaScript'\n",
    "            },\n",
    "            tooltip: {},\n",
    "            legend: {\n",
    "                data:['销量']\n",
    "            },\n",
    "            xAxis: {\n",
    "                data: [\"衬衫\",\"羊毛衫\",\"雪纺衫\",\"裤子\",\"高跟鞋\",\"袜子\"]\n",
    "            },\n",
    "            yAxis: {},\n",
    "            series: [{\n",
    "                name: '销量',\n",
    "                type: 'bar',\n",
    "                data: [5, 20, 36, 10, 10, 20]\n",
    "            }]\n",
    "        };\n",
    "\n",
    "        var myChart = echarts.init(document.getElementById('nest_chart'));\n",
    "        myChart.setOption(option);\n",
    "        return {};\n",
    "    });\n",
    "})(element);\n"
   ]
  },
  {
   "cell_type": "code",
   "execution_count": 4,
   "metadata": {},
   "outputs": [
    {
     "data": {
      "application/javascript": [
       "window.v2_option = JSON.parse('{\"title\": {\"text\": \"Python to JavaScript\"}, \"tooltip\": {}, \"legend\": {\"data\": [\"销量\"]}, \"xAxis\": {\"data\": [\"衬衫\", \"羊毛衫\", \"雪纺衫\", \"裤子\", \"高跟鞋\", \"袜子\"]}, \"yAxis\": {}, \"series\": [{\"name\": \"销量\", \"type\": \"bar\", \"data\": [5, 20, 36, 10, 10, 20]}]}')"
      ],
      "text/plain": [
       "<IPython.core.display.Javascript object>"
      ]
     },
     "execution_count": 4,
     "metadata": {},
     "output_type": "execute_result"
    }
   ],
   "source": [
    "v2_option = {\n",
    "    \"title\": {\n",
    "        \"text\": 'Python to JavaScript'\n",
    "    },\n",
    "    \"tooltip\": {},\n",
    "    \"legend\": {\n",
    "        \"data\":['销量']\n",
    "    },\n",
    "    \"xAxis\": {\n",
    "        \"data\": [\"衬衫\",\"羊毛衫\",\"雪纺衫\",\"裤子\",\"高跟鞋\",\"袜子\"]\n",
    "    },\n",
    "    \"yAxis\": {},\n",
    "    \"series\": [{\n",
    "        \"name\": '销量',\n",
    "        \"type\": 'bar',\n",
    "        \"data\": [5, 20, 36, 10, 10, 20]\n",
    "    }]\n",
    "};\n",
    "Javascript(f\"window.v2_option = JSON.parse('{json.dumps(v2_option, ensure_ascii=False)}')\")"
   ]
  },
  {
   "cell_type": "code",
   "execution_count": 5,
   "metadata": {},
   "outputs": [
    {
     "data": {
      "application/javascript": [
       "element.append('<div id=\"v2_option_chart\" style=\"min-width: 310px; height: 400px; margin: 0 auto\"></div>');\n",
       "(function(element) {\n",
       "    requirejs(['echarts'], function(echarts) {\n",
       "        var myChart = echarts.init(document.getElementById('v2_option_chart'));\n",
       "        myChart.setOption(v2_option);\n",
       "        return {};\n",
       "    });\n",
       "})(element);\n"
      ],
      "text/plain": [
       "<IPython.core.display.Javascript object>"
      ]
     },
     "metadata": {},
     "output_type": "display_data"
    }
   ],
   "source": [
    "%%javascript\n",
    "element.append('<div id=\"v2_option_chart\" style=\"min-width: 310px; height: 400px; margin: 0 auto\"></div>');\n",
    "(function(element) {\n",
    "    requirejs(['echarts'], function(echarts) {\n",
    "        var myChart = echarts.init(document.getElementById('v2_option_chart'));\n",
    "        myChart.setOption(v2_option);\n",
    "        return {};\n",
    "    });\n",
    "})(element);\n"
   ]
  }
 ],
 "metadata": {
  "kernelspec": {
   "display_name": "Python 3",
   "language": "python",
   "name": "python3"
  },
  "language_info": {
   "codemirror_mode": {
    "name": "ipython",
    "version": 3
   },
   "file_extension": ".py",
   "mimetype": "text/x-python",
   "name": "python",
   "nbconvert_exporter": "python",
   "pygments_lexer": "ipython3",
   "version": "3.7.3"
  }
 },
 "nbformat": 4,
 "nbformat_minor": 1
}
