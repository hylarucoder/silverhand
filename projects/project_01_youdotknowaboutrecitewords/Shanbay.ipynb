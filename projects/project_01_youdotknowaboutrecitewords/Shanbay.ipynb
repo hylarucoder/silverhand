{
 "cells": [
  {
   "cell_type": "code",
   "execution_count": 1,
   "metadata": {
    "collapsed": false
   },
   "outputs": [],
   "source": [
    "# The %... is an iPython thing, and is not part of the Python language.\n",
    "# In this case we're just telling the plotting library to draw things on\n",
    "# the notebook, instead of on a separate window.\n",
    "%matplotlib inline\n",
    "# See all the \"as ...\" contructs? They're just aliasing the package names.\n",
    "# That way we can call methods like plt.plot() instead of matplotlib.pyplot.plot().\n",
    "import numpy as np\n",
    "import scipy as sp\n",
    "import matplotlib as mpl\n",
    "import matplotlib.cm as cm\n",
    "import matplotlib.pyplot as plt\n",
    "import pandas as pd\n",
    "import time\n",
    "pd.set_option('display.width', 1000)\n",
    "pd.set_option('display.max_columns', 100)\n",
    "pd.set_option('display.notebook_repr_html', True)\n",
    "import seaborn as sns\n",
    "sns.set_style(\"darkgrid\")\n",
    "sns.set_context(\"poster\")\n"
   ]
  },
  {
   "cell_type": "code",
   "execution_count": 2,
   "metadata": {
    "collapsed": true
   },
   "outputs": [],
   "source": [
    "from sqlalchemy import create_engine\n",
    "from sqlalchemy.engine.url import URL"
   ]
  },
  {
   "cell_type": "code",
   "execution_count": 3,
   "metadata": {
    "collapsed": true
   },
   "outputs": [],
   "source": [
    "DATABASE = {\n",
    "    'drivername': 'postgres',\n",
    "    'host': 'localhost',\n",
    "    'port': '5432',\n",
    "    'username': 'twocucao',\n",
    "    'password': '',\n",
    "    'database': 'shanbaydb'\n",
    "}"
   ]
  },
  {
   "cell_type": "code",
   "execution_count": 4,
   "metadata": {
    "collapsed": false
   },
   "outputs": [],
   "source": [
    "engine = create_engine(URL(**DATABASE))"
   ]
  },
  {
   "cell_type": "code",
   "execution_count": 5,
   "metadata": {
    "collapsed": false
   },
   "outputs": [],
   "source": [
    "with engine.connect() as conn, conn.begin():\n",
    "    data = pd.read_sql_table('shanbay_user', conn)"
   ]
  },
  {
   "cell_type": "code",
   "execution_count": 6,
   "metadata": {
    "collapsed": false,
    "scrolled": true
   },
   "outputs": [
    {
     "data": {
      "text/html": [
       "<div>\n",
       "<table border=\"1\" class=\"dataframe\">\n",
       "  <thead>\n",
       "    <tr style=\"text-align: right;\">\n",
       "      <th></th>\n",
       "      <th>user_id</th>\n",
       "      <th>username</th>\n",
       "      <th>nickname</th>\n",
       "      <th>growth_stat</th>\n",
       "      <th>words_count</th>\n",
       "      <th>words_learned_count</th>\n",
       "      <th>words_learning_count</th>\n",
       "      <th>words_new_count</th>\n",
       "      <th>checkin_days_count</th>\n",
       "    </tr>\n",
       "  </thead>\n",
       "  <tbody>\n",
       "    <tr>\n",
       "      <th>0</th>\n",
       "      <td>142</td>\n",
       "      <td>waini12</td>\n",
       "      <td>waini12</td>\n",
       "      <td>61</td>\n",
       "      <td>0</td>\n",
       "      <td>0</td>\n",
       "      <td>0</td>\n",
       "      <td>0</td>\n",
       "      <td>8</td>\n",
       "    </tr>\n",
       "    <tr>\n",
       "      <th>1</th>\n",
       "      <td>421</td>\n",
       "      <td>子蓝</td>\n",
       "      <td>子蓝</td>\n",
       "      <td>75</td>\n",
       "      <td>0</td>\n",
       "      <td>0</td>\n",
       "      <td>0</td>\n",
       "      <td>0</td>\n",
       "      <td>0</td>\n",
       "    </tr>\n",
       "    <tr>\n",
       "      <th>2</th>\n",
       "      <td>426</td>\n",
       "      <td>郁叶</td>\n",
       "      <td>郁叶</td>\n",
       "      <td>387</td>\n",
       "      <td>0</td>\n",
       "      <td>0</td>\n",
       "      <td>0</td>\n",
       "      <td>0</td>\n",
       "      <td>49</td>\n",
       "    </tr>\n",
       "    <tr>\n",
       "      <th>3</th>\n",
       "      <td>2</td>\n",
       "      <td>cheka</td>\n",
       "      <td>Cheka</td>\n",
       "      <td>7596</td>\n",
       "      <td>6438</td>\n",
       "      <td>5967</td>\n",
       "      <td>121</td>\n",
       "      <td>350</td>\n",
       "      <td>823</td>\n",
       "    </tr>\n",
       "    <tr>\n",
       "      <th>4</th>\n",
       "      <td>11</td>\n",
       "      <td>xconline</td>\n",
       "      <td>xconline</td>\n",
       "      <td>533</td>\n",
       "      <td>0</td>\n",
       "      <td>0</td>\n",
       "      <td>95</td>\n",
       "      <td>6</td>\n",
       "      <td>35</td>\n",
       "    </tr>\n",
       "    <tr>\n",
       "      <th>5</th>\n",
       "      <td>17</td>\n",
       "      <td>dearelephant</td>\n",
       "      <td>dearelephant</td>\n",
       "      <td>3052</td>\n",
       "      <td>0</td>\n",
       "      <td>0</td>\n",
       "      <td>0</td>\n",
       "      <td>0</td>\n",
       "      <td>400</td>\n",
       "    </tr>\n",
       "    <tr>\n",
       "      <th>6</th>\n",
       "      <td>14</td>\n",
       "      <td>xiawinter</td>\n",
       "      <td>why</td>\n",
       "      <td>11822</td>\n",
       "      <td>12595</td>\n",
       "      <td>12368</td>\n",
       "      <td>195</td>\n",
       "      <td>32</td>\n",
       "      <td>1230</td>\n",
       "    </tr>\n",
       "    <tr>\n",
       "      <th>7</th>\n",
       "      <td>312</td>\n",
       "      <td>sally1209</td>\n",
       "      <td>sally_1209</td>\n",
       "      <td>985</td>\n",
       "      <td>2570</td>\n",
       "      <td>2187</td>\n",
       "      <td>383</td>\n",
       "      <td>0</td>\n",
       "      <td>122</td>\n",
       "    </tr>\n",
       "    <tr>\n",
       "      <th>8</th>\n",
       "      <td>314</td>\n",
       "      <td>wangqiang</td>\n",
       "      <td>wangqiang</td>\n",
       "      <td>501</td>\n",
       "      <td>0</td>\n",
       "      <td>0</td>\n",
       "      <td>0</td>\n",
       "      <td>0</td>\n",
       "      <td>62</td>\n",
       "    </tr>\n",
       "    <tr>\n",
       "      <th>9</th>\n",
       "      <td>348</td>\n",
       "      <td>river_1106</td>\n",
       "      <td>river_1106</td>\n",
       "      <td>136</td>\n",
       "      <td>0</td>\n",
       "      <td>0</td>\n",
       "      <td>0</td>\n",
       "      <td>0</td>\n",
       "      <td>17</td>\n",
       "    </tr>\n",
       "    <tr>\n",
       "      <th>10</th>\n",
       "      <td>446</td>\n",
       "      <td>糖果糖果</td>\n",
       "      <td>糖果糖果</td>\n",
       "      <td>130</td>\n",
       "      <td>0</td>\n",
       "      <td>0</td>\n",
       "      <td>32</td>\n",
       "      <td>68</td>\n",
       "      <td>12</td>\n",
       "    </tr>\n",
       "    <tr>\n",
       "      <th>11</th>\n",
       "      <td>455</td>\n",
       "      <td>花容月猫</td>\n",
       "      <td>花容月猫</td>\n",
       "      <td>64</td>\n",
       "      <td>0</td>\n",
       "      <td>0</td>\n",
       "      <td>0</td>\n",
       "      <td>102</td>\n",
       "      <td>8</td>\n",
       "    </tr>\n",
       "    <tr>\n",
       "      <th>12</th>\n",
       "      <td>467</td>\n",
       "      <td>a_mu</td>\n",
       "      <td>Everest</td>\n",
       "      <td>270</td>\n",
       "      <td>0</td>\n",
       "      <td>0</td>\n",
       "      <td>0</td>\n",
       "      <td>0</td>\n",
       "      <td>0</td>\n",
       "    </tr>\n",
       "    <tr>\n",
       "      <th>13</th>\n",
       "      <td>495</td>\n",
       "      <td>froschmann</td>\n",
       "      <td>froschmann</td>\n",
       "      <td>86</td>\n",
       "      <td>0</td>\n",
       "      <td>0</td>\n",
       "      <td>0</td>\n",
       "      <td>0</td>\n",
       "      <td>0</td>\n",
       "    </tr>\n",
       "    <tr>\n",
       "      <th>14</th>\n",
       "      <td>44</td>\n",
       "      <td>taysxiao</td>\n",
       "      <td>taysxiao</td>\n",
       "      <td>57</td>\n",
       "      <td>0</td>\n",
       "      <td>0</td>\n",
       "      <td>0</td>\n",
       "      <td>0</td>\n",
       "      <td>1</td>\n",
       "    </tr>\n",
       "    <tr>\n",
       "      <th>15</th>\n",
       "      <td>47</td>\n",
       "      <td>jason</td>\n",
       "      <td>jason</td>\n",
       "      <td>2369</td>\n",
       "      <td>0</td>\n",
       "      <td>0</td>\n",
       "      <td>3</td>\n",
       "      <td>1</td>\n",
       "      <td>299</td>\n",
       "    </tr>\n",
       "    <tr>\n",
       "      <th>16</th>\n",
       "      <td>59</td>\n",
       "      <td>luojiakui</td>\n",
       "      <td>罗佳岿</td>\n",
       "      <td>179</td>\n",
       "      <td>0</td>\n",
       "      <td>0</td>\n",
       "      <td>0</td>\n",
       "      <td>24</td>\n",
       "      <td>16</td>\n",
       "    </tr>\n",
       "    <tr>\n",
       "      <th>17</th>\n",
       "      <td>85</td>\n",
       "      <td>ccmermaid</td>\n",
       "      <td>ccmermaid</td>\n",
       "      <td>508</td>\n",
       "      <td>0</td>\n",
       "      <td>0</td>\n",
       "      <td>0</td>\n",
       "      <td>0</td>\n",
       "      <td>60</td>\n",
       "    </tr>\n",
       "    <tr>\n",
       "      <th>18</th>\n",
       "      <td>92</td>\n",
       "      <td>basil</td>\n",
       "      <td>basil</td>\n",
       "      <td>999</td>\n",
       "      <td>0</td>\n",
       "      <td>0</td>\n",
       "      <td>0</td>\n",
       "      <td>0</td>\n",
       "      <td>121</td>\n",
       "    </tr>\n",
       "    <tr>\n",
       "      <th>19</th>\n",
       "      <td>96</td>\n",
       "      <td>zetion</td>\n",
       "      <td>zetion</td>\n",
       "      <td>282</td>\n",
       "      <td>0</td>\n",
       "      <td>0</td>\n",
       "      <td>0</td>\n",
       "      <td>14</td>\n",
       "      <td>38</td>\n",
       "    </tr>\n",
       "    <tr>\n",
       "      <th>20</th>\n",
       "      <td>392</td>\n",
       "      <td>byshi</td>\n",
       "      <td>byshi</td>\n",
       "      <td>328</td>\n",
       "      <td>0</td>\n",
       "      <td>0</td>\n",
       "      <td>0</td>\n",
       "      <td>0</td>\n",
       "      <td>41</td>\n",
       "    </tr>\n",
       "    <tr>\n",
       "      <th>21</th>\n",
       "      <td>394</td>\n",
       "      <td>lixiao</td>\n",
       "      <td>lixiao</td>\n",
       "      <td>120</td>\n",
       "      <td>0</td>\n",
       "      <td>0</td>\n",
       "      <td>12</td>\n",
       "      <td>88</td>\n",
       "      <td>15</td>\n",
       "    </tr>\n",
       "    <tr>\n",
       "      <th>22</th>\n",
       "      <td>99</td>\n",
       "      <td>annabel</td>\n",
       "      <td>annabel</td>\n",
       "      <td>53</td>\n",
       "      <td>0</td>\n",
       "      <td>0</td>\n",
       "      <td>0</td>\n",
       "      <td>0</td>\n",
       "      <td>7</td>\n",
       "    </tr>\n",
       "    <tr>\n",
       "      <th>23</th>\n",
       "      <td>112</td>\n",
       "      <td>cynphobia</td>\n",
       "      <td>cynphobia</td>\n",
       "      <td>2307</td>\n",
       "      <td>0</td>\n",
       "      <td>0</td>\n",
       "      <td>0</td>\n",
       "      <td>0</td>\n",
       "      <td>275</td>\n",
       "    </tr>\n",
       "    <tr>\n",
       "      <th>24</th>\n",
       "      <td>155</td>\n",
       "      <td>jumi</td>\n",
       "      <td>jumi</td>\n",
       "      <td>82</td>\n",
       "      <td>0</td>\n",
       "      <td>0</td>\n",
       "      <td>185</td>\n",
       "      <td>37</td>\n",
       "      <td>9</td>\n",
       "    </tr>\n",
       "    <tr>\n",
       "      <th>25</th>\n",
       "      <td>406</td>\n",
       "      <td>tierra</td>\n",
       "      <td>tierra</td>\n",
       "      <td>113</td>\n",
       "      <td>0</td>\n",
       "      <td>0</td>\n",
       "      <td>15</td>\n",
       "      <td>2458</td>\n",
       "      <td>1</td>\n",
       "    </tr>\n",
       "    <tr>\n",
       "      <th>26</th>\n",
       "      <td>506</td>\n",
       "      <td>hidomi0916</td>\n",
       "      <td>hidomi0916</td>\n",
       "      <td>573</td>\n",
       "      <td>0</td>\n",
       "      <td>0</td>\n",
       "      <td>1229</td>\n",
       "      <td>23</td>\n",
       "      <td>71</td>\n",
       "    </tr>\n",
       "    <tr>\n",
       "      <th>27</th>\n",
       "      <td>383</td>\n",
       "      <td>sophia</td>\n",
       "      <td>sophia</td>\n",
       "      <td>7121</td>\n",
       "      <td>15070</td>\n",
       "      <td>14404</td>\n",
       "      <td>648</td>\n",
       "      <td>18</td>\n",
       "      <td>899</td>\n",
       "    </tr>\n",
       "    <tr>\n",
       "      <th>28</th>\n",
       "      <td>538</td>\n",
       "      <td>jennnie</td>\n",
       "      <td>jennnie</td>\n",
       "      <td>58</td>\n",
       "      <td>0</td>\n",
       "      <td>0</td>\n",
       "      <td>0</td>\n",
       "      <td>0</td>\n",
       "      <td>1</td>\n",
       "    </tr>\n",
       "    <tr>\n",
       "      <th>29</th>\n",
       "      <td>544</td>\n",
       "      <td>Lacunamm</td>\n",
       "      <td>Lacunamm</td>\n",
       "      <td>1873</td>\n",
       "      <td>2265</td>\n",
       "      <td>2264</td>\n",
       "      <td>1</td>\n",
       "      <td>0</td>\n",
       "      <td>232</td>\n",
       "    </tr>\n",
       "    <tr>\n",
       "      <th>...</th>\n",
       "      <td>...</td>\n",
       "      <td>...</td>\n",
       "      <td>...</td>\n",
       "      <td>...</td>\n",
       "      <td>...</td>\n",
       "      <td>...</td>\n",
       "      <td>...</td>\n",
       "      <td>...</td>\n",
       "      <td>...</td>\n",
       "    </tr>\n",
       "    <tr>\n",
       "      <th>610858</th>\n",
       "      <td>1078105</td>\n",
       "      <td>鱼兜麦yzz</td>\n",
       "      <td>鱼兜麦yzz</td>\n",
       "      <td>0</td>\n",
       "      <td>0</td>\n",
       "      <td>0</td>\n",
       "      <td>0</td>\n",
       "      <td>0</td>\n",
       "      <td>2</td>\n",
       "    </tr>\n",
       "    <tr>\n",
       "      <th>610859</th>\n",
       "      <td>1078108</td>\n",
       "      <td>xiaoran_0911</td>\n",
       "      <td>xiaoran_0911</td>\n",
       "      <td>0</td>\n",
       "      <td>0</td>\n",
       "      <td>0</td>\n",
       "      <td>0</td>\n",
       "      <td>0</td>\n",
       "      <td>0</td>\n",
       "    </tr>\n",
       "    <tr>\n",
       "      <th>610860</th>\n",
       "      <td>1078111</td>\n",
       "      <td>edwerd333@163.com</td>\n",
       "      <td>edwerd333@163.com</td>\n",
       "      <td>0</td>\n",
       "      <td>0</td>\n",
       "      <td>0</td>\n",
       "      <td>0</td>\n",
       "      <td>0</td>\n",
       "      <td>0</td>\n",
       "    </tr>\n",
       "    <tr>\n",
       "      <th>610861</th>\n",
       "      <td>1078081</td>\n",
       "      <td>chaoxiaogua</td>\n",
       "      <td>chaoxiaogua</td>\n",
       "      <td>0</td>\n",
       "      <td>0</td>\n",
       "      <td>0</td>\n",
       "      <td>0</td>\n",
       "      <td>0</td>\n",
       "      <td>1</td>\n",
       "    </tr>\n",
       "    <tr>\n",
       "      <th>610862</th>\n",
       "      <td>1078114</td>\n",
       "      <td>AISS</td>\n",
       "      <td>AISS</td>\n",
       "      <td>0</td>\n",
       "      <td>0</td>\n",
       "      <td>0</td>\n",
       "      <td>0</td>\n",
       "      <td>0</td>\n",
       "      <td>0</td>\n",
       "    </tr>\n",
       "    <tr>\n",
       "      <th>610863</th>\n",
       "      <td>1078120</td>\n",
       "      <td>shepherdgirl1238</td>\n",
       "      <td>shepherdgirl1238</td>\n",
       "      <td>0</td>\n",
       "      <td>0</td>\n",
       "      <td>0</td>\n",
       "      <td>0</td>\n",
       "      <td>0</td>\n",
       "      <td>0</td>\n",
       "    </tr>\n",
       "    <tr>\n",
       "      <th>610864</th>\n",
       "      <td>1078126</td>\n",
       "      <td>林洁@简琳1</td>\n",
       "      <td>林洁@简琳1</td>\n",
       "      <td>0</td>\n",
       "      <td>0</td>\n",
       "      <td>0</td>\n",
       "      <td>0</td>\n",
       "      <td>0</td>\n",
       "      <td>0</td>\n",
       "    </tr>\n",
       "    <tr>\n",
       "      <th>610865</th>\n",
       "      <td>1078132</td>\n",
       "      <td>yt2apple</td>\n",
       "      <td>yt2apple</td>\n",
       "      <td>0</td>\n",
       "      <td>0</td>\n",
       "      <td>0</td>\n",
       "      <td>0</td>\n",
       "      <td>0</td>\n",
       "      <td>1</td>\n",
       "    </tr>\n",
       "    <tr>\n",
       "      <th>610866</th>\n",
       "      <td>1078135</td>\n",
       "      <td>maico</td>\n",
       "      <td>maico</td>\n",
       "      <td>0</td>\n",
       "      <td>0</td>\n",
       "      <td>0</td>\n",
       "      <td>0</td>\n",
       "      <td>0</td>\n",
       "      <td>0</td>\n",
       "    </tr>\n",
       "    <tr>\n",
       "      <th>610867</th>\n",
       "      <td>1078129</td>\n",
       "      <td>dugongfa</td>\n",
       "      <td>dugongfa</td>\n",
       "      <td>0</td>\n",
       "      <td>0</td>\n",
       "      <td>0</td>\n",
       "      <td>0</td>\n",
       "      <td>0</td>\n",
       "      <td>0</td>\n",
       "    </tr>\n",
       "    <tr>\n",
       "      <th>610868</th>\n",
       "      <td>1078138</td>\n",
       "      <td>lvsfam</td>\n",
       "      <td>lvsfam</td>\n",
       "      <td>0</td>\n",
       "      <td>0</td>\n",
       "      <td>0</td>\n",
       "      <td>0</td>\n",
       "      <td>55</td>\n",
       "      <td>0</td>\n",
       "    </tr>\n",
       "    <tr>\n",
       "      <th>610869</th>\n",
       "      <td>1078141</td>\n",
       "      <td>yanglr</td>\n",
       "      <td>yanglr</td>\n",
       "      <td>0</td>\n",
       "      <td>0</td>\n",
       "      <td>0</td>\n",
       "      <td>0</td>\n",
       "      <td>0</td>\n",
       "      <td>3</td>\n",
       "    </tr>\n",
       "    <tr>\n",
       "      <th>610870</th>\n",
       "      <td>1078144</td>\n",
       "      <td>Sunshine___</td>\n",
       "      <td>Sunshine___</td>\n",
       "      <td>0</td>\n",
       "      <td>0</td>\n",
       "      <td>0</td>\n",
       "      <td>0</td>\n",
       "      <td>0</td>\n",
       "      <td>0</td>\n",
       "    </tr>\n",
       "    <tr>\n",
       "      <th>610871</th>\n",
       "      <td>1078147</td>\n",
       "      <td>yaody0319</td>\n",
       "      <td>yaody0319</td>\n",
       "      <td>0</td>\n",
       "      <td>0</td>\n",
       "      <td>0</td>\n",
       "      <td>0</td>\n",
       "      <td>0</td>\n",
       "      <td>0</td>\n",
       "    </tr>\n",
       "    <tr>\n",
       "      <th>610872</th>\n",
       "      <td>1078150</td>\n",
       "      <td>freedom916</td>\n",
       "      <td>freedom916</td>\n",
       "      <td>0</td>\n",
       "      <td>0</td>\n",
       "      <td>0</td>\n",
       "      <td>0</td>\n",
       "      <td>0</td>\n",
       "      <td>0</td>\n",
       "    </tr>\n",
       "    <tr>\n",
       "      <th>610873</th>\n",
       "      <td>1078153</td>\n",
       "      <td>tao694761</td>\n",
       "      <td>tao694761</td>\n",
       "      <td>0</td>\n",
       "      <td>0</td>\n",
       "      <td>0</td>\n",
       "      <td>0</td>\n",
       "      <td>0</td>\n",
       "      <td>0</td>\n",
       "    </tr>\n",
       "    <tr>\n",
       "      <th>610874</th>\n",
       "      <td>1078162</td>\n",
       "      <td>yxcong</td>\n",
       "      <td>yxcong</td>\n",
       "      <td>0</td>\n",
       "      <td>0</td>\n",
       "      <td>0</td>\n",
       "      <td>0</td>\n",
       "      <td>0</td>\n",
       "      <td>0</td>\n",
       "    </tr>\n",
       "    <tr>\n",
       "      <th>610875</th>\n",
       "      <td>1078168</td>\n",
       "      <td>zhangyang0123</td>\n",
       "      <td>zhangyang0123</td>\n",
       "      <td>0</td>\n",
       "      <td>0</td>\n",
       "      <td>0</td>\n",
       "      <td>0</td>\n",
       "      <td>0</td>\n",
       "      <td>0</td>\n",
       "    </tr>\n",
       "    <tr>\n",
       "      <th>610876</th>\n",
       "      <td>1078180</td>\n",
       "      <td>xrhzjf</td>\n",
       "      <td>xrhzjf</td>\n",
       "      <td>0</td>\n",
       "      <td>0</td>\n",
       "      <td>0</td>\n",
       "      <td>0</td>\n",
       "      <td>0</td>\n",
       "      <td>0</td>\n",
       "    </tr>\n",
       "    <tr>\n",
       "      <th>610877</th>\n",
       "      <td>1078183</td>\n",
       "      <td>yuyi830220</td>\n",
       "      <td>yuyi830220</td>\n",
       "      <td>0</td>\n",
       "      <td>0</td>\n",
       "      <td>0</td>\n",
       "      <td>0</td>\n",
       "      <td>0</td>\n",
       "      <td>0</td>\n",
       "    </tr>\n",
       "    <tr>\n",
       "      <th>610878</th>\n",
       "      <td>1078192</td>\n",
       "      <td>Elainelomee</td>\n",
       "      <td>Elainelomee</td>\n",
       "      <td>0</td>\n",
       "      <td>0</td>\n",
       "      <td>0</td>\n",
       "      <td>0</td>\n",
       "      <td>0</td>\n",
       "      <td>2</td>\n",
       "    </tr>\n",
       "    <tr>\n",
       "      <th>610879</th>\n",
       "      <td>1078171</td>\n",
       "      <td>dengyunshu</td>\n",
       "      <td>dengyunshu</td>\n",
       "      <td>0</td>\n",
       "      <td>0</td>\n",
       "      <td>0</td>\n",
       "      <td>0</td>\n",
       "      <td>0</td>\n",
       "      <td>0</td>\n",
       "    </tr>\n",
       "    <tr>\n",
       "      <th>610880</th>\n",
       "      <td>1078204</td>\n",
       "      <td>Hedgehog801</td>\n",
       "      <td>Hedgehog801</td>\n",
       "      <td>0</td>\n",
       "      <td>0</td>\n",
       "      <td>0</td>\n",
       "      <td>0</td>\n",
       "      <td>0</td>\n",
       "      <td>5</td>\n",
       "    </tr>\n",
       "    <tr>\n",
       "      <th>610881</th>\n",
       "      <td>1078216</td>\n",
       "      <td>ldd1993</td>\n",
       "      <td>ldd1993</td>\n",
       "      <td>0</td>\n",
       "      <td>0</td>\n",
       "      <td>0</td>\n",
       "      <td>0</td>\n",
       "      <td>0</td>\n",
       "      <td>0</td>\n",
       "    </tr>\n",
       "    <tr>\n",
       "      <th>610882</th>\n",
       "      <td>1078222</td>\n",
       "      <td>cmj592833330</td>\n",
       "      <td>cmj592833330</td>\n",
       "      <td>0</td>\n",
       "      <td>0</td>\n",
       "      <td>0</td>\n",
       "      <td>0</td>\n",
       "      <td>0</td>\n",
       "      <td>0</td>\n",
       "    </tr>\n",
       "    <tr>\n",
       "      <th>610883</th>\n",
       "      <td>1078225</td>\n",
       "      <td>lan425</td>\n",
       "      <td>lan425</td>\n",
       "      <td>0</td>\n",
       "      <td>0</td>\n",
       "      <td>0</td>\n",
       "      <td>0</td>\n",
       "      <td>0</td>\n",
       "      <td>0</td>\n",
       "    </tr>\n",
       "    <tr>\n",
       "      <th>610884</th>\n",
       "      <td>1078228</td>\n",
       "      <td>bmx2010</td>\n",
       "      <td>bmx2010</td>\n",
       "      <td>0</td>\n",
       "      <td>0</td>\n",
       "      <td>0</td>\n",
       "      <td>20</td>\n",
       "      <td>80</td>\n",
       "      <td>2</td>\n",
       "    </tr>\n",
       "    <tr>\n",
       "      <th>610885</th>\n",
       "      <td>1078231</td>\n",
       "      <td>nicole_niuniu</td>\n",
       "      <td>nicole_niuniu</td>\n",
       "      <td>0</td>\n",
       "      <td>0</td>\n",
       "      <td>0</td>\n",
       "      <td>0</td>\n",
       "      <td>0</td>\n",
       "      <td>0</td>\n",
       "    </tr>\n",
       "    <tr>\n",
       "      <th>610886</th>\n",
       "      <td>1077994</td>\n",
       "      <td>yvonnechan7</td>\n",
       "      <td>yvonnechan7</td>\n",
       "      <td>0</td>\n",
       "      <td>0</td>\n",
       "      <td>0</td>\n",
       "      <td>0</td>\n",
       "      <td>0</td>\n",
       "      <td>0</td>\n",
       "    </tr>\n",
       "    <tr>\n",
       "      <th>610887</th>\n",
       "      <td>1076950</td>\n",
       "      <td>mandy20128</td>\n",
       "      <td>mandy20128</td>\n",
       "      <td>0</td>\n",
       "      <td>0</td>\n",
       "      <td>0</td>\n",
       "      <td>0</td>\n",
       "      <td>0</td>\n",
       "      <td>0</td>\n",
       "    </tr>\n",
       "  </tbody>\n",
       "</table>\n",
       "<p>610888 rows × 9 columns</p>\n",
       "</div>"
      ],
      "text/plain": [
       "        user_id           username            nickname  growth_stat  words_count  words_learned_count  words_learning_count  words_new_count  checkin_days_count\n",
       "0           142            waini12            waini12            61            0                    0                     0                0                   8\n",
       "1           421                 子蓝                 子蓝            75            0                    0                     0                0                   0\n",
       "2           426                 郁叶                 郁叶           387            0                    0                     0                0                  49\n",
       "3             2              cheka              Cheka          7596         6438                 5967                   121              350                 823\n",
       "4            11           xconline           xconline           533            0                    0                    95                6                  35\n",
       "5            17       dearelephant       dearelephant          3052            0                    0                     0                0                 400\n",
       "6            14          xiawinter                why         11822        12595                12368                   195               32                1230\n",
       "7           312          sally1209         sally_1209           985         2570                 2187                   383                0                 122\n",
       "8           314          wangqiang          wangqiang           501            0                    0                     0                0                  62\n",
       "9           348         river_1106         river_1106           136            0                    0                     0                0                  17\n",
       "10          446               糖果糖果               糖果糖果           130            0                    0                    32               68                  12\n",
       "11          455               花容月猫               花容月猫            64            0                    0                     0              102                   8\n",
       "12          467               a_mu            Everest           270            0                    0                     0                0                   0\n",
       "13          495         froschmann         froschmann            86            0                    0                     0                0                   0\n",
       "14           44           taysxiao           taysxiao            57            0                    0                     0                0                   1\n",
       "15           47              jason              jason          2369            0                    0                     3                1                 299\n",
       "16           59          luojiakui                罗佳岿           179            0                    0                     0               24                  16\n",
       "17           85          ccmermaid          ccmermaid           508            0                    0                     0                0                  60\n",
       "18           92              basil              basil           999            0                    0                     0                0                 121\n",
       "19           96             zetion             zetion           282            0                    0                     0               14                  38\n",
       "20          392              byshi              byshi           328            0                    0                     0                0                  41\n",
       "21          394             lixiao             lixiao           120            0                    0                    12               88                  15\n",
       "22           99            annabel            annabel            53            0                    0                     0                0                   7\n",
       "23          112          cynphobia          cynphobia          2307            0                    0                     0                0                 275\n",
       "24          155               jumi               jumi            82            0                    0                   185               37                   9\n",
       "25          406             tierra             tierra           113            0                    0                    15             2458                   1\n",
       "26          506         hidomi0916         hidomi0916           573            0                    0                  1229               23                  71\n",
       "27          383             sophia             sophia          7121        15070                14404                   648               18                 899\n",
       "28          538            jennnie            jennnie            58            0                    0                     0                0                   1\n",
       "29          544           Lacunamm           Lacunamm          1873         2265                 2264                     1                0                 232\n",
       "...         ...                ...                 ...          ...          ...                  ...                   ...              ...                 ...\n",
       "610858  1078105             鱼兜麦yzz             鱼兜麦yzz             0            0                    0                     0                0                   2\n",
       "610859  1078108       xiaoran_0911       xiaoran_0911             0            0                    0                     0                0                   0\n",
       "610860  1078111  edwerd333@163.com  edwerd333@163.com             0            0                    0                     0                0                   0\n",
       "610861  1078081        chaoxiaogua        chaoxiaogua             0            0                    0                     0                0                   1\n",
       "610862  1078114               AISS               AISS             0            0                    0                     0                0                   0\n",
       "610863  1078120   shepherdgirl1238   shepherdgirl1238             0            0                    0                     0                0                   0\n",
       "610864  1078126             林洁@简琳1             林洁@简琳1             0            0                    0                     0                0                   0\n",
       "610865  1078132           yt2apple           yt2apple             0            0                    0                     0                0                   1\n",
       "610866  1078135              maico              maico             0            0                    0                     0                0                   0\n",
       "610867  1078129           dugongfa           dugongfa             0            0                    0                     0                0                   0\n",
       "610868  1078138             lvsfam             lvsfam             0            0                    0                     0               55                   0\n",
       "610869  1078141             yanglr             yanglr             0            0                    0                     0                0                   3\n",
       "610870  1078144        Sunshine___        Sunshine___             0            0                    0                     0                0                   0\n",
       "610871  1078147          yaody0319          yaody0319             0            0                    0                     0                0                   0\n",
       "610872  1078150         freedom916         freedom916             0            0                    0                     0                0                   0\n",
       "610873  1078153          tao694761          tao694761             0            0                    0                     0                0                   0\n",
       "610874  1078162             yxcong             yxcong             0            0                    0                     0                0                   0\n",
       "610875  1078168      zhangyang0123      zhangyang0123             0            0                    0                     0                0                   0\n",
       "610876  1078180             xrhzjf             xrhzjf             0            0                    0                     0                0                   0\n",
       "610877  1078183         yuyi830220         yuyi830220             0            0                    0                     0                0                   0\n",
       "610878  1078192        Elainelomee        Elainelomee             0            0                    0                     0                0                   2\n",
       "610879  1078171         dengyunshu         dengyunshu             0            0                    0                     0                0                   0\n",
       "610880  1078204        Hedgehog801        Hedgehog801             0            0                    0                     0                0                   5\n",
       "610881  1078216            ldd1993            ldd1993             0            0                    0                     0                0                   0\n",
       "610882  1078222       cmj592833330       cmj592833330             0            0                    0                     0                0                   0\n",
       "610883  1078225             lan425             lan425             0            0                    0                     0                0                   0\n",
       "610884  1078228            bmx2010            bmx2010             0            0                    0                    20               80                   2\n",
       "610885  1078231      nicole_niuniu      nicole_niuniu             0            0                    0                     0                0                   0\n",
       "610886  1077994        yvonnechan7        yvonnechan7             0            0                    0                     0                0                   0\n",
       "610887  1076950         mandy20128         mandy20128             0            0                    0                     0                0                   0\n",
       "\n",
       "[610888 rows x 9 columns]"
      ]
     },
     "execution_count": 6,
     "metadata": {},
     "output_type": "execute_result"
    }
   ],
   "source": [
    "data"
   ]
  },
  {
   "cell_type": "markdown",
   "metadata": {},
   "source": [
    "\n",
    "> 最高\n",
    "\n",
    " - 成长值\n",
    " - 打卡天数\n",
    " - 单词数量\n",
    " \n",
    " \n",
    "> 平均值\n",
    "\n",
    " - 成长值\n",
    " - 打卡天数\n",
    " - 单词数量\n",
    "\n",
    "> 分布\n",
    "\n",
    " - 成长值\n",
    " - 打开天数(1/5/10/50/100/500/1000/1000+)\n",
    " - 单词数量(1/5/10/50/100/500/1000/1000+)\n",
    "\n",
    "> 联系\n",
    "\n",
    " - 对于打卡100天以上的人,打卡天数和单词数量\n",
    "\n",
    "> 组成\n",
    " \n",
    " - 打卡百分比"
   ]
  },
  {
   "cell_type": "code",
   "execution_count": 7,
   "metadata": {
    "collapsed": false
   },
   "outputs": [
    {
     "data": {
      "text/html": [
       "<div>\n",
       "<table border=\"1\" class=\"dataframe\">\n",
       "  <thead>\n",
       "    <tr style=\"text-align: right;\">\n",
       "      <th></th>\n",
       "      <th>user_id</th>\n",
       "      <th>username</th>\n",
       "      <th>nickname</th>\n",
       "      <th>growth_stat</th>\n",
       "      <th>words_count</th>\n",
       "      <th>words_learned_count</th>\n",
       "      <th>words_learning_count</th>\n",
       "      <th>words_new_count</th>\n",
       "      <th>checkin_days_count</th>\n",
       "    </tr>\n",
       "  </thead>\n",
       "  <tbody>\n",
       "    <tr>\n",
       "      <th>8863</th>\n",
       "      <td>252751</td>\n",
       "      <td>Lerystal</td>\n",
       "      <td>-靛蓝小孩-</td>\n",
       "      <td>28767</td>\n",
       "      <td>13357</td>\n",
       "      <td>9405</td>\n",
       "      <td>648</td>\n",
       "      <td>3303</td>\n",
       "      <td>1735</td>\n",
       "    </tr>\n",
       "  </tbody>\n",
       "</table>\n",
       "</div>"
      ],
      "text/plain": [
       "      user_id  username nickname  growth_stat  words_count  words_learned_count  words_learning_count  words_new_count  checkin_days_count\n",
       "8863   252751  Lerystal  -靛蓝小孩-         28767        13357                 9405                   648             3303                1735"
      ]
     },
     "execution_count": 7,
     "metadata": {},
     "output_type": "execute_result"
    }
   ],
   "source": [
    "# row number\n",
    "data.index.size\n",
    "#最高\n",
    "#data.max()这个是默认找出每行的最大值\n",
    "#data.max(axis=1)\n",
    "data[data.growth_stat == data.growth_stat.max()]"
   ]
  },
  {
   "cell_type": "code",
   "execution_count": 8,
   "metadata": {
    "collapsed": false
   },
   "outputs": [
    {
     "data": {
      "text/html": [
       "<div>\n",
       "<table border=\"1\" class=\"dataframe\">\n",
       "  <thead>\n",
       "    <tr style=\"text-align: right;\">\n",
       "      <th></th>\n",
       "      <th>user_id</th>\n",
       "      <th>username</th>\n",
       "      <th>nickname</th>\n",
       "      <th>growth_stat</th>\n",
       "      <th>words_count</th>\n",
       "      <th>words_learned_count</th>\n",
       "      <th>words_learning_count</th>\n",
       "      <th>words_new_count</th>\n",
       "      <th>checkin_days_count</th>\n",
       "    </tr>\n",
       "  </thead>\n",
       "  <tbody>\n",
       "    <tr>\n",
       "      <th>65375</th>\n",
       "      <td>663919</td>\n",
       "      <td>chenmaoboss</td>\n",
       "      <td>chenmaoboss</td>\n",
       "      <td>10695</td>\n",
       "      <td>38313</td>\n",
       "      <td>37224</td>\n",
       "      <td>1010</td>\n",
       "      <td>56</td>\n",
       "      <td>1353</td>\n",
       "    </tr>\n",
       "  </tbody>\n",
       "</table>\n",
       "</div>"
      ],
      "text/plain": [
       "       user_id     username      nickname  growth_stat  words_count  words_learned_count  words_learning_count  words_new_count  checkin_days_count\n",
       "65375   663919  chenmaoboss  chenmaoboss         10695        38313                37224                  1010               56                1353"
      ]
     },
     "execution_count": 8,
     "metadata": {},
     "output_type": "execute_result"
    }
   ],
   "source": [
    "data[data.words_count == data.words_count.max()]"
   ]
  },
  {
   "cell_type": "code",
   "execution_count": 9,
   "metadata": {
    "collapsed": false
   },
   "outputs": [
    {
     "data": {
      "text/html": [
       "<div>\n",
       "<table border=\"1\" class=\"dataframe\">\n",
       "  <thead>\n",
       "    <tr style=\"text-align: right;\">\n",
       "      <th></th>\n",
       "      <th>user_id</th>\n",
       "      <th>username</th>\n",
       "      <th>nickname</th>\n",
       "      <th>growth_stat</th>\n",
       "      <th>words_count</th>\n",
       "      <th>words_learned_count</th>\n",
       "      <th>words_learning_count</th>\n",
       "      <th>words_new_count</th>\n",
       "      <th>checkin_days_count</th>\n",
       "    </tr>\n",
       "  </thead>\n",
       "  <tbody>\n",
       "    <tr>\n",
       "      <th>7360</th>\n",
       "      <td>228171</td>\n",
       "      <td>chainyu</td>\n",
       "      <td>Chain</td>\n",
       "      <td>14688</td>\n",
       "      <td>14348</td>\n",
       "      <td>14333</td>\n",
       "      <td>15</td>\n",
       "      <td>0</td>\n",
       "      <td>1830</td>\n",
       "    </tr>\n",
       "  </tbody>\n",
       "</table>\n",
       "</div>"
      ],
      "text/plain": [
       "      user_id username nickname  growth_stat  words_count  words_learned_count  words_learning_count  words_new_count  checkin_days_count\n",
       "7360   228171  chainyu   Chain         14688        14348                14333                    15                0                1830"
      ]
     },
     "execution_count": 9,
     "metadata": {},
     "output_type": "execute_result"
    }
   ],
   "source": [
    "data[data.checkin_days_count == data.checkin_days_count.max()]"
   ]
  },
  {
   "cell_type": "code",
   "execution_count": 10,
   "metadata": {
    "collapsed": false
   },
   "outputs": [
    {
     "data": {
      "text/plain": [
       "121.79073578135436"
      ]
     },
     "execution_count": 10,
     "metadata": {},
     "output_type": "execute_result"
    }
   ],
   "source": [
    "# 平均每人多少成长值\n",
    "data.growth_stat.mean()"
   ]
  },
  {
   "cell_type": "code",
   "execution_count": 11,
   "metadata": {
    "collapsed": false
   },
   "outputs": [
    {
     "data": {
      "text/plain": [
       "78.92198897342884"
      ]
     },
     "execution_count": 11,
     "metadata": {},
     "output_type": "execute_result"
    }
   ],
   "source": [
    "# 平均每人学了多少单词\n",
    "data.words_count.mean()"
   ]
  },
  {
   "cell_type": "code",
   "execution_count": 12,
   "metadata": {
    "collapsed": false
   },
   "outputs": [
    {
     "data": {
      "text/plain": [
       "14.180090294783987"
      ]
     },
     "execution_count": 12,
     "metadata": {},
     "output_type": "execute_result"
    }
   ],
   "source": [
    "# 每个人打卡次数\n",
    "data.checkin_days_count.mean()"
   ]
  },
  {
   "cell_type": "code",
   "execution_count": 13,
   "metadata": {
    "collapsed": false
   },
   "outputs": [
    {
     "data": {
      "text/plain": [
       "71342"
      ]
     },
     "execution_count": 13,
     "metadata": {},
     "output_type": "execute_result"
    }
   ],
   "source": [
    "# 多少人过了成长值平均值呢?\n",
    "data[data.growth_stat > data.growth_stat.mean()].index.size"
   ]
  },
  {
   "cell_type": "code",
   "execution_count": 14,
   "metadata": {
    "collapsed": false
   },
   "outputs": [
    {
     "data": {
      "text/plain": [
       "13351"
      ]
     },
     "execution_count": 14,
     "metadata": {},
     "output_type": "execute_result"
    }
   ],
   "source": [
    "# 多少人过了单词平均值呢?\n",
    "data[data.words_count > data.words_count.mean()].index.size"
   ]
  },
  {
   "cell_type": "code",
   "execution_count": 15,
   "metadata": {
    "collapsed": false
   },
   "outputs": [
    {
     "data": {
      "text/plain": [
       "69782"
      ]
     },
     "execution_count": 15,
     "metadata": {},
     "output_type": "execute_result"
    }
   ],
   "source": [
    "# 多少人过了打卡平均值呢?\n",
    "data[data.checkin_days_count > data.checkin_days_count.mean()].index.size"
   ]
  },
  {
   "cell_type": "code",
   "execution_count": 45,
   "metadata": {
    "collapsed": false
   },
   "outputs": [
    {
     "data": {
      "text/plain": [
       "<matplotlib.axes._subplots.AxesSubplot at 0x15739e0f0>"
      ]
     },
     "execution_count": 45,
     "metadata": {},
     "output_type": "execute_result"
    },
    {
     "data": {
      "image/png": "[encoded data removed]",
      "text/plain": [
       "<matplotlib.figure.Figure at 0x15a6043c8>"
      ]
     },
     "metadata": {},
     "output_type": "display_data"
    }
   ],
   "source": [
    "sns.distplot(data.checkin_days_count, kde=False, color=\"b\")"
   ]
  },
  {
   "cell_type": "code",
   "execution_count": 44,
   "metadata": {
    "collapsed": false
   },
   "outputs": [
    {
     "data": {
      "text/plain": [
       "<matplotlib.axes._subplots.AxesSubplot at 0x157174320>"
      ]
     },
     "execution_count": 44,
     "metadata": {},
     "output_type": "execute_result"
    },
    {
     "data": {
      "image/png": "[encoded data removed]",
      "text/plain": [
       "<matplotlib.figure.Figure at 0x1571839e8>"
      ]
     },
     "metadata": {},
     "output_type": "display_data"
    }
   ],
   "source": [
    "# 打卡次数的分布\n",
    "\n",
    "non_zero_data = data[data.checkin_days_count > 0]\n",
    "sns.distplot(non_zero_data.checkin_days_count, kde=False, color=\"b\")\n",
    "\n",
    "# 哎呦我擦,这尼玛,太...."
   ]
  },
  {
   "cell_type": "code",
   "execution_count": 17,
   "metadata": {
    "collapsed": false
   },
   "outputs": [
    {
     "data": {
      "text/plain": [
       "<matplotlib.axes._subplots.AxesSubplot at 0x11f2f4438>"
      ]
     },
     "execution_count": 17,
     "metadata": {},
     "output_type": "execute_result"
    },
    {
     "data": {
      "image/png": "[encoded data removed]",
      "text/plain": [
       "<matplotlib.figure.Figure at 0x1257f54e0>"
      ]
     },
     "metadata": {},
     "output_type": "display_data"
    }
   ],
   "source": [
    "from0to20 = data[data.checkin_days_count <= 20]\n",
    "sns.distplot(from0to20.checkin_days_count, kde=False, color=\"b\")"
   ]
  },
  {
   "cell_type": "code",
   "execution_count": 18,
   "metadata": {
    "collapsed": false
   },
   "outputs": [
    {
     "data": {
      "text/plain": [
       "<matplotlib.axes._subplots.AxesSubplot at 0x11e469cf8>"
      ]
     },
     "execution_count": 18,
     "metadata": {},
     "output_type": "execute_result"
    },
    {
     "data": {
      "image/png": "[encoded data removed]",
      "text/plain": [
       "<matplotlib.figure.Figure at 0x11e789908>"
      ]
     },
     "metadata": {},
     "output_type": "display_data"
    }
   ],
   "source": [
    "from20to100 = data[(data.checkin_days_count > 20) & (data.checkin_days_count <= 100) ]\n",
    "sns.distplot(from20to100.checkin_days_count, kde=False, color=\"b\")"
   ]
  },
  {
   "cell_type": "code",
   "execution_count": 19,
   "metadata": {
    "collapsed": false
   },
   "outputs": [
    {
     "data": {
      "text/plain": [
       "<matplotlib.axes._subplots.AxesSubplot at 0x11f81fd68>"
      ]
     },
     "execution_count": 19,
     "metadata": {},
     "output_type": "execute_result"
    },
    {
     "data": {
      "image/png": "[encoded data removed]",
      "text/plain": [
       "<matplotlib.figure.Figure at 0x11f8b0cc0>"
      ]
     },
     "metadata": {},
     "output_type": "display_data"
    }
   ],
   "source": [
    "from100to500 = data[(data.checkin_days_count > 100) & (data.checkin_days_count <= 500) ]\n",
    "sns.distplot(from100to500.checkin_days_count, kde=False, color=\"b\")"
   ]
  },
  {
   "cell_type": "code",
   "execution_count": 20,
   "metadata": {
    "collapsed": false
   },
   "outputs": [
    {
     "data": {
      "text/plain": [
       "<matplotlib.axes._subplots.AxesSubplot at 0x11fcca4e0>"
      ]
     },
     "execution_count": 20,
     "metadata": {},
     "output_type": "execute_result"
    },
    {
     "data": {
      "image/png": "[encoded data removed]",
      "text/plain": [
       "<matplotlib.figure.Figure at 0x11f8b5b00>"
      ]
     },
     "metadata": {},
     "output_type": "display_data"
    }
   ],
   "source": [
    "from500to2000 = data[(data.checkin_days_count > 500) & (data.checkin_days_count <= 2000) ]\n",
    "sns.distplot(from500to2000.checkin_days_count, kde=False, color=\"b\")"
   ]
  },
  {
   "cell_type": "markdown",
   "metadata": {
    "collapsed": true
   },
   "source": [
    "其他成长值和单词数量大抵也是如此分布."
   ]
  },
  {
   "cell_type": "code",
   "execution_count": 21,
   "metadata": {
    "collapsed": false,
    "scrolled": true
   },
   "outputs": [
    {
     "data": {
      "text/plain": [
       "<matplotlib.axes._subplots.AxesSubplot at 0x12503e9b0>"
      ]
     },
     "execution_count": 21,
     "metadata": {},
     "output_type": "execute_result"
    },
    {
     "data": {
      "image/png": "[encoded data removed]",
      "text/plain": [
       "<matplotlib.figure.Figure at 0x11e76ecc0>"
      ]
     },
     "metadata": {},
     "output_type": "display_data"
    }
   ],
   "source": [
    "sns.distplot(data.words_count, kde=False, color=\"b\")"
   ]
  },
  {
   "cell_type": "code",
   "execution_count": 59,
   "metadata": {
    "collapsed": false
   },
   "outputs": [],
   "source": [
    "new_data = data[[\"checkin_days_count\",\"words_count\"]].drop_duplicates()\n",
    "top_data = new_data[new_data.checkin_days_count > 200]"
   ]
  },
  {
   "cell_type": "code",
   "execution_count": 62,
   "metadata": {
    "collapsed": false
   },
   "outputs": [
    {
     "data": {
      "text/plain": [
       "<matplotlib.axes._subplots.AxesSubplot at 0x1694b9940>"
      ]
     },
     "execution_count": 62,
     "metadata": {},
     "output_type": "execute_result"
    },
    {
     "data": {
      "image/png": "[encoded data removed]",
      "text/plain": [
       "<matplotlib.figure.Figure at 0x1685c9358>"
      ]
     },
     "metadata": {},
     "output_type": "display_data"
    }
   ],
   "source": [
    "sns.regplot(x=\"checkin_days_count\",y=\"words_count\",data = top_data)"
   ]
  },
  {
   "cell_type": "code",
   "execution_count": 86,
   "metadata": {
    "collapsed": true
   },
   "outputs": [],
   "source": [
    "def ratio_die_on_day(n):\n",
    "    size = data[data.checkin_days_count <= n].index.size\n",
    "    return ( size / 610888,size)"
   ]
  },
  {
   "cell_type": "code",
   "execution_count": 87,
   "metadata": {
    "collapsed": false
   },
   "outputs": [
    {
     "data": {
      "text/plain": [
       "(0.6815504642422179, 416351)"
      ]
     },
     "execution_count": 87,
     "metadata": {},
     "output_type": "execute_result"
    }
   ],
   "source": [
    "ratio_die_on_day(0)"
   ]
  },
  {
   "cell_type": "code",
   "execution_count": 88,
   "metadata": {
    "collapsed": false
   },
   "outputs": [
    {
     "data": {
      "text/plain": [
       "(0.7640696821675986, 466761)"
      ]
     },
     "execution_count": 88,
     "metadata": {},
     "output_type": "execute_result"
    }
   ],
   "source": [
    "ratio_die_on_day(1)"
   ]
  },
  {
   "cell_type": "code",
   "execution_count": 89,
   "metadata": {
    "collapsed": false
   },
   "outputs": [
    {
     "data": {
      "text/plain": [
       "(0.7931650318880057, 484535)"
      ]
     },
     "execution_count": 89,
     "metadata": {},
     "output_type": "execute_result"
    }
   ],
   "source": [
    "ratio_die_on_day(2)"
   ]
  },
  {
   "cell_type": "code",
   "execution_count": 90,
   "metadata": {
    "collapsed": false
   },
   "outputs": [
    {
     "data": {
      "text/plain": [
       "(0.8352267518759576, 510230)"
      ]
     },
     "execution_count": 90,
     "metadata": {},
     "output_type": "execute_result"
    }
   ],
   "source": [
    "ratio_die_on_day(5)"
   ]
  },
  {
   "cell_type": "code",
   "execution_count": 91,
   "metadata": {
    "collapsed": false
   },
   "outputs": [
    {
     "data": {
      "text/plain": [
       "(0.8695849320988462, 531219)"
      ]
     },
     "execution_count": 91,
     "metadata": {},
     "output_type": "execute_result"
    }
   ],
   "source": [
    "ratio_die_on_day(10)"
   ]
  },
  {
   "cell_type": "code",
   "execution_count": 92,
   "metadata": {
    "collapsed": false
   },
   "outputs": [
    {
     "data": {
      "text/plain": [
       "(0.9028774505310302, 551557)"
      ]
     },
     "execution_count": 92,
     "metadata": {},
     "output_type": "execute_result"
    }
   ],
   "source": [
    "ratio_die_on_day(20)"
   ]
  },
  {
   "cell_type": "code",
   "execution_count": 93,
   "metadata": {
    "collapsed": false
   },
   "outputs": [
    {
     "data": {
      "text/plain": [
       "(0.942848770969474, 575975)"
      ]
     },
     "execution_count": 93,
     "metadata": {},
     "output_type": "execute_result"
    }
   ],
   "source": [
    "ratio_die_on_day(50)"
   ]
  },
  {
   "cell_type": "code",
   "execution_count": 94,
   "metadata": {
    "collapsed": false
   },
   "outputs": [
    {
     "data": {
      "text/plain": [
       "(0.9669530257592226, 590700)"
      ]
     },
     "execution_count": 94,
     "metadata": {},
     "output_type": "execute_result"
    }
   ],
   "source": [
    "ratio_die_on_day(100)"
   ]
  },
  {
   "cell_type": "code",
   "execution_count": 95,
   "metadata": {
    "collapsed": false
   },
   "outputs": [
    {
     "data": {
      "text/plain": [
       "(0.9836091067429709, 600875)"
      ]
     },
     "execution_count": 95,
     "metadata": {},
     "output_type": "execute_result"
    }
   ],
   "source": [
    "ratio_die_on_day(200)"
   ]
  },
  {
   "cell_type": "code",
   "execution_count": 100,
   "metadata": {
    "collapsed": false
   },
   "outputs": [
    {
     "data": {
      "text/plain": [
       "(0.9881827765482379, 603669)"
      ]
     },
     "execution_count": 100,
     "metadata": {},
     "output_type": "execute_result"
    }
   ],
   "source": [
    "ratio_die_on_day(263)"
   ]
  },
  {
   "cell_type": "code",
   "execution_count": 97,
   "metadata": {
    "collapsed": false
   },
   "outputs": [
    {
     "data": {
      "text/plain": [
       "(0.9950989379395241, 607894)"
      ]
     },
     "execution_count": 97,
     "metadata": {},
     "output_type": "execute_result"
    }
   ],
   "source": [
    "ratio_die_on_day(500)"
   ]
  },
  {
   "cell_type": "code",
   "execution_count": 98,
   "metadata": {
    "collapsed": false
   },
   "outputs": [
    {
     "data": {
      "text/plain": [
       "(0.9985070913162478, 609976)"
      ]
     },
     "execution_count": 98,
     "metadata": {},
     "output_type": "execute_result"
    }
   ],
   "source": [
    "ratio_die_on_day(1000)"
   ]
  },
  {
   "cell_type": "code",
   "execution_count": 99,
   "metadata": {
    "collapsed": false
   },
   "outputs": [
    {
     "data": {
      "text/plain": [
       "(0.9998428517174998, 610792)"
      ]
     },
     "execution_count": 99,
     "metadata": {},
     "output_type": "execute_result"
    }
   ],
   "source": [
    "ratio_die_on_day(1500)"
   ]
  }
 ],
 "metadata": {
  "kernelspec": {
   "display_name": "Python 3",
   "language": "python",
   "name": "python3"
  },
  "language_info": {
   "codemirror_mode": {
    "name": "ipython",
    "version": 3
   },
   "file_extension": ".py",
   "mimetype": "text/x-python",
   "name": "python",
   "nbconvert_exporter": "python",
   "pygments_lexer": "ipython3",
   "version": "3.5.1"
  }
 },
 "nbformat": 4,
 "nbformat_minor": 0
}
